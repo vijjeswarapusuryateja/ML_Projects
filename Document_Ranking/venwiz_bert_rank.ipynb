{
 "cells": [
  {
   "cell_type": "markdown",
   "id": "c1624306",
   "metadata": {},
   "source": [
    "# Bert Ranking"
   ]
  },
  {
   "cell_type": "code",
   "execution_count": 1,
   "id": "a07c5709",
   "metadata": {},
   "outputs": [],
   "source": [
    "import pandas as pd\n",
    "import torch\n",
    "from transformers import AutoTokenizer, AutoModel"
   ]
  },
  {
   "cell_type": "code",
   "execution_count": 2,
   "id": "e14a363d",
   "metadata": {},
   "outputs": [
    {
     "name": "stderr",
     "output_type": "stream",
     "text": [
      "Some weights of the model checkpoint at bert-base-uncased were not used when initializing BertModel: ['cls.predictions.decoder.weight', 'cls.seq_relationship.bias', 'cls.seq_relationship.weight', 'cls.predictions.transform.dense.bias', 'cls.predictions.bias', 'cls.predictions.transform.dense.weight', 'cls.predictions.transform.LayerNorm.weight', 'cls.predictions.transform.LayerNorm.bias']\n",
      "- This IS expected if you are initializing BertModel from the checkpoint of a model trained on another task or with another architecture (e.g. initializing a BertForSequenceClassification model from a BertForPreTraining model).\n",
      "- This IS NOT expected if you are initializing BertModel from the checkpoint of a model that you expect to be exactly identical (initializing a BertForSequenceClassification model from a BertForSequenceClassification model).\n"
     ]
    }
   ],
   "source": [
    "# Load the pre-trained BERT model\n",
    "tokenizer = AutoTokenizer.from_pretrained(\"bert-base-uncased\")\n",
    "model = AutoModel.from_pretrained(\"bert-base-uncased\")"
   ]
  },
  {
   "cell_type": "code",
   "execution_count": 3,
   "id": "026522f3",
   "metadata": {},
   "outputs": [],
   "source": [
    "f=open('docs.txt')\n",
    "doc_str = f.read()\n",
    "docs = doc_str.split(\".I\")"
   ]
  },
  {
   "cell_type": "code",
   "execution_count": 4,
   "id": "0cd340ff",
   "metadata": {},
   "outputs": [
    {
     "data": {
      "text/html": [
       "<div>\n",
       "<style scoped>\n",
       "    .dataframe tbody tr th:only-of-type {\n",
       "        vertical-align: middle;\n",
       "    }\n",
       "\n",
       "    .dataframe tbody tr th {\n",
       "        vertical-align: top;\n",
       "    }\n",
       "\n",
       "    .dataframe thead th {\n",
       "        text-align: right;\n",
       "    }\n",
       "</style>\n",
       "<table border=\"1\" class=\"dataframe\">\n",
       "  <thead>\n",
       "    <tr style=\"text-align: right;\">\n",
       "      <th></th>\n",
       "      <th>I</th>\n",
       "      <th>W</th>\n",
       "    </tr>\n",
       "  </thead>\n",
       "  <tbody>\n",
       "    <tr>\n",
       "      <th>0</th>\n",
       "      <td>1</td>\n",
       "      <td>correlation between maternal and fetal plasma ...</td>\n",
       "    </tr>\n",
       "    <tr>\n",
       "      <th>1</th>\n",
       "      <td>2</td>\n",
       "      <td>changes of the nucleic acid and phospholipid l...</td>\n",
       "    </tr>\n",
       "    <tr>\n",
       "      <th>2</th>\n",
       "      <td>3</td>\n",
       "      <td>surfactant in fetal lamb tracheal fluid .     ...</td>\n",
       "    </tr>\n",
       "    <tr>\n",
       "      <th>3</th>\n",
       "      <td>4</td>\n",
       "      <td>placental and cord blood lipids.. comparison i...</td>\n",
       "    </tr>\n",
       "    <tr>\n",
       "      <th>4</th>\n",
       "      <td>5</td>\n",
       "      <td>free fatty acid concentration in maternal plas...</td>\n",
       "    </tr>\n",
       "  </tbody>\n",
       "</table>\n",
       "</div>"
      ],
      "text/plain": [
       "   I                                                  W\n",
       "0  1  correlation between maternal and fetal plasma ...\n",
       "1  2  changes of the nucleic acid and phospholipid l...\n",
       "2  3  surfactant in fetal lamb tracheal fluid .     ...\n",
       "3  4  placental and cord blood lipids.. comparison i...\n",
       "4  5  free fatty acid concentration in maternal plas..."
      ]
     },
     "execution_count": 4,
     "metadata": {},
     "output_type": "execute_result"
    }
   ],
   "source": [
    "docs_data = []\n",
    "for t in docs:\n",
    "    if t.strip() != \"\":\n",
    "        i = t.split(\".W\\n\")[0]\n",
    "        w = t.split(\".W\\n\")[1]\n",
    "        docs_data.append({\"I\": i.strip(), \"W\": w.strip()})\n",
    "\n",
    "df_docs = pd.DataFrame(docs_data)\n",
    "df_docs.head()"
   ]
  },
  {
   "cell_type": "code",
   "execution_count": 5,
   "id": "d8c9e465",
   "metadata": {},
   "outputs": [],
   "source": [
    "f=open('queries.txt')\n",
    "query_str = f.read()\n",
    "queries = query_str.split(\".I\")"
   ]
  },
  {
   "cell_type": "code",
   "execution_count": 6,
   "id": "e66ebf8d",
   "metadata": {},
   "outputs": [
    {
     "data": {
      "text/html": [
       "<div>\n",
       "<style scoped>\n",
       "    .dataframe tbody tr th:only-of-type {\n",
       "        vertical-align: middle;\n",
       "    }\n",
       "\n",
       "    .dataframe tbody tr th {\n",
       "        vertical-align: top;\n",
       "    }\n",
       "\n",
       "    .dataframe thead th {\n",
       "        text-align: right;\n",
       "    }\n",
       "</style>\n",
       "<table border=\"1\" class=\"dataframe\">\n",
       "  <thead>\n",
       "    <tr style=\"text-align: right;\">\n",
       "      <th></th>\n",
       "      <th>I</th>\n",
       "      <th>W</th>\n",
       "    </tr>\n",
       "  </thead>\n",
       "  <tbody>\n",
       "    <tr>\n",
       "      <th>0</th>\n",
       "      <td>1</td>\n",
       "      <td>the crystalline lens in vertebrates, including...</td>\n",
       "    </tr>\n",
       "    <tr>\n",
       "      <th>1</th>\n",
       "      <td>2</td>\n",
       "      <td>the relationship of blood and cerebrospinal fl...</td>\n",
       "    </tr>\n",
       "    <tr>\n",
       "      <th>2</th>\n",
       "      <td>3</td>\n",
       "      <td>electron microscopy of lung or bronchi.</td>\n",
       "    </tr>\n",
       "    <tr>\n",
       "      <th>3</th>\n",
       "      <td>4</td>\n",
       "      <td>tissue culture of lung or bronchial neoplasms.</td>\n",
       "    </tr>\n",
       "    <tr>\n",
       "      <th>4</th>\n",
       "      <td>5</td>\n",
       "      <td>the crossing of fatty acids through the placen...</td>\n",
       "    </tr>\n",
       "  </tbody>\n",
       "</table>\n",
       "</div>"
      ],
      "text/plain": [
       "   I                                                  W\n",
       "0  1  the crystalline lens in vertebrates, including...\n",
       "1  2  the relationship of blood and cerebrospinal fl...\n",
       "2  3            electron microscopy of lung or bronchi.\n",
       "3  4     tissue culture of lung or bronchial neoplasms.\n",
       "4  5  the crossing of fatty acids through the placen..."
      ]
     },
     "execution_count": 6,
     "metadata": {},
     "output_type": "execute_result"
    }
   ],
   "source": [
    "queries_data = []\n",
    "for t in queries:\n",
    "    if t.strip() != \"\":\n",
    "        i = t.split(\".W\\n\")[0]\n",
    "        w = t.split(\".W\\n\")[1]\n",
    "        queries_data.append({\"I\": i.strip(), \"W\": w.strip()})\n",
    "\n",
    "df_queries = pd.DataFrame(queries_data)\n",
    "df_queries.head()"
   ]
  },
  {
   "cell_type": "code",
   "execution_count": 7,
   "id": "2c1ea760",
   "metadata": {},
   "outputs": [],
   "source": [
    "f=open('relevance.txt')\n",
    "relevance_str = f.read()\n",
    "relevance = relevance_str.strip().split(\"\\n\")"
   ]
  },
  {
   "cell_type": "code",
   "execution_count": 8,
   "id": "304efcc7",
   "metadata": {},
   "outputs": [],
   "source": [
    "# Split each line into columns\n",
    "rows = [list(map(float, line.strip().split())) for line in relevance]\n",
    "\n",
    "# Create a DataFrame from the rows\n",
    "df_relevance = pd.DataFrame(rows, columns=[\"query\", \"doc\", \"col3\", \"col4\"])\n",
    "df_relevance = df_relevance.drop(['col3', 'col4'], axis=1)\n",
    "\n",
    "df_relevance = df_relevance.astype(int)\n",
    "df_docs['I'] = df_docs['I'].astype(int)\n",
    "df_queries['I'] = df_queries['I'].astype(int)\n",
    "\n",
    "df_rele_doc = pd.merge(df_relevance, df_docs, left_on='doc', right_on='I')\n",
    "\n",
    "df = pd.merge(df_rele_doc, df_queries, left_on='query', right_on='I')\n",
    "\n",
    "df = df.rename(columns={'W_x':'docs', 'W_y':'queries'})\n",
    "\n",
    "final_df = df[['docs', 'queries', 'doc', 'query']]"
   ]
  },
  {
   "cell_type": "code",
   "execution_count": 9,
   "id": "0c5c44fa",
   "metadata": {},
   "outputs": [],
   "source": [
    "rank_list = []"
   ]
  },
  {
   "cell_type": "code",
   "execution_count": 10,
   "id": "d136cea4",
   "metadata": {},
   "outputs": [
    {
     "name": "stderr",
     "output_type": "stream",
     "text": [
      "Truncation was not explicitly activated but `max_length` is provided a specific value, please use `truncation=True` to explicitly truncate examples to max length. Defaulting to 'longest_first' truncation strategy. If you encode pairs of sequences (GLUE-style) with the tokenizer you can select this strategy more precisely by providing a specific strategy to `truncation`.\n"
     ]
    }
   ],
   "source": [
    "for i in range(1, len(df_queries)+1):\n",
    "    \n",
    "    query = final_df.loc[final_df['query'] == i, 'queries'].iloc[0]\n",
    "    documents = final_df.loc[final_df['query'] == i, 'docs'].to_list()\n",
    "    # Encode the query and documents using the BERT tokenizer\n",
    "    # Encode the query and documents using the BERT tokenizer\n",
    "    input_ids_query = torch.tensor(tokenizer.encode(query, add_special_tokens=True, max_length=512)).unsqueeze(0) # add [CLS] token at the beginning\n",
    "    input_ids_docs = [torch.tensor(tokenizer.encode(doc, add_special_tokens=True, max_length=512)).unsqueeze(0) for doc in documents]\n",
    "    \n",
    "    # Pass the encoded input to the BERT model to get the hidden states\n",
    "    with torch.no_grad():\n",
    "        hidden_states_query = model(input_ids_query)[0]\n",
    "        hidden_states_docs = [model(input_ids_doc)[0] for input_ids_doc in input_ids_docs]\n",
    "    \n",
    "    # Compute the dot product between the query hidden state and each document hidden state to get the similarity scores\n",
    "    similarity_scores = [torch.dot(hidden_states_query[0, 0, :], hidden_states_doc[0, 0, :]).item() for hidden_states_doc in hidden_states_docs]\n",
    "    \n",
    "    # Sort the documents based on the similarity scores to get the ranking\n",
    "    ranking = [doc for _, doc in sorted(zip(similarity_scores, documents), key=lambda pair: pair[0], reverse=True)]\n",
    "    \n",
    "    rank_list.append(ranking)"
   ]
  },
  {
   "cell_type": "code",
   "execution_count": 11,
   "id": "0a0a66ed",
   "metadata": {},
   "outputs": [],
   "source": [
    "ranked_docs =  [element for innerList in rank_list for element in innerList]"
   ]
  },
  {
   "cell_type": "code",
   "execution_count": 12,
   "id": "f8e35303",
   "metadata": {},
   "outputs": [
    {
     "data": {
      "text/plain": [
       "696"
      ]
     },
     "execution_count": 12,
     "metadata": {},
     "output_type": "execute_result"
    }
   ],
   "source": [
    "len(ranked_docs)"
   ]
  },
  {
   "cell_type": "code",
   "execution_count": 13,
   "id": "71d59645",
   "metadata": {},
   "outputs": [],
   "source": [
    "ranked_docs_df = pd.DataFrame(ranked_docs).rename(columns={0: 'ranked_docs'})"
   ]
  },
  {
   "cell_type": "code",
   "execution_count": 15,
   "id": "b924c8c8",
   "metadata": {},
   "outputs": [
    {
     "data": {
      "text/plain": [
       "696"
      ]
     },
     "execution_count": 15,
     "metadata": {},
     "output_type": "execute_result"
    }
   ],
   "source": [
    "final_ranking_df = pd.concat([final_df, ranked_docs_df], axis=1)\n",
    "\n",
    "len(final_ranking_df)"
   ]
  },
  {
   "cell_type": "code",
   "execution_count": 16,
   "id": "7b090fcc",
   "metadata": {},
   "outputs": [],
   "source": [
    "final_ranking_df.to_csv('venwiz_bert_rank.csv', index=False)"
   ]
  },
  {
   "cell_type": "code",
   "execution_count": null,
   "id": "fde029eb",
   "metadata": {},
   "outputs": [],
   "source": [
    "final_ranking"
   ]
  }
 ],
 "metadata": {
  "kernelspec": {
   "display_name": "Python 3 (ipykernel)",
   "language": "python",
   "name": "python3"
  },
  "language_info": {
   "codemirror_mode": {
    "name": "ipython",
    "version": 3
   },
   "file_extension": ".py",
   "mimetype": "text/x-python",
   "name": "python",
   "nbconvert_exporter": "python",
   "pygments_lexer": "ipython3",
   "version": "3.9.13"
  }
 },
 "nbformat": 4,
 "nbformat_minor": 5
}
