{
 "cells": [
  {
   "cell_type": "markdown",
   "id": "3dbc1d3d",
   "metadata": {},
   "source": [
    "# Spacy"
   ]
  },
  {
   "cell_type": "code",
   "execution_count": 1,
   "id": "baea9052",
   "metadata": {},
   "outputs": [],
   "source": [
    "import pandas as pd\n",
    "import numpy as np\n",
    "import spacy"
   ]
  },
  {
   "cell_type": "code",
   "execution_count": 2,
   "id": "fb03b938",
   "metadata": {},
   "outputs": [],
   "source": [
    "# Load a pre-trained spaCy model\n",
    "nlp = spacy.load('en_core_web_lg')"
   ]
  },
  {
   "cell_type": "code",
   "execution_count": 3,
   "id": "213f198c",
   "metadata": {},
   "outputs": [],
   "source": [
    "f=open('docs.txt')\n",
    "doc_str = f.read()\n",
    "docs = doc_str.split(\".I\")"
   ]
  },
  {
   "cell_type": "code",
   "execution_count": 4,
   "id": "06ef39e5",
   "metadata": {},
   "outputs": [
    {
     "data": {
      "text/html": [
       "<div>\n",
       "<style scoped>\n",
       "    .dataframe tbody tr th:only-of-type {\n",
       "        vertical-align: middle;\n",
       "    }\n",
       "\n",
       "    .dataframe tbody tr th {\n",
       "        vertical-align: top;\n",
       "    }\n",
       "\n",
       "    .dataframe thead th {\n",
       "        text-align: right;\n",
       "    }\n",
       "</style>\n",
       "<table border=\"1\" class=\"dataframe\">\n",
       "  <thead>\n",
       "    <tr style=\"text-align: right;\">\n",
       "      <th></th>\n",
       "      <th>I</th>\n",
       "      <th>W</th>\n",
       "    </tr>\n",
       "  </thead>\n",
       "  <tbody>\n",
       "    <tr>\n",
       "      <th>0</th>\n",
       "      <td>1</td>\n",
       "      <td>correlation between maternal and fetal plasma ...</td>\n",
       "    </tr>\n",
       "    <tr>\n",
       "      <th>1</th>\n",
       "      <td>2</td>\n",
       "      <td>changes of the nucleic acid and phospholipid l...</td>\n",
       "    </tr>\n",
       "    <tr>\n",
       "      <th>2</th>\n",
       "      <td>3</td>\n",
       "      <td>surfactant in fetal lamb tracheal fluid .     ...</td>\n",
       "    </tr>\n",
       "    <tr>\n",
       "      <th>3</th>\n",
       "      <td>4</td>\n",
       "      <td>placental and cord blood lipids.. comparison i...</td>\n",
       "    </tr>\n",
       "    <tr>\n",
       "      <th>4</th>\n",
       "      <td>5</td>\n",
       "      <td>free fatty acid concentration in maternal plas...</td>\n",
       "    </tr>\n",
       "  </tbody>\n",
       "</table>\n",
       "</div>"
      ],
      "text/plain": [
       "   I                                                  W\n",
       "0  1  correlation between maternal and fetal plasma ...\n",
       "1  2  changes of the nucleic acid and phospholipid l...\n",
       "2  3  surfactant in fetal lamb tracheal fluid .     ...\n",
       "3  4  placental and cord blood lipids.. comparison i...\n",
       "4  5  free fatty acid concentration in maternal plas..."
      ]
     },
     "execution_count": 4,
     "metadata": {},
     "output_type": "execute_result"
    }
   ],
   "source": [
    "docs_data = []\n",
    "for t in docs:\n",
    "    if t.strip() != \"\":\n",
    "        i = t.split(\".W\\n\")[0]\n",
    "        w = t.split(\".W\\n\")[1]\n",
    "        docs_data.append({\"I\": i.strip(), \"W\": w.strip()})\n",
    "\n",
    "df_docs = pd.DataFrame(docs_data)\n",
    "df_docs.head()"
   ]
  },
  {
   "cell_type": "code",
   "execution_count": 5,
   "id": "c26e032e",
   "metadata": {},
   "outputs": [],
   "source": [
    "f=open('queries.txt')\n",
    "query_str = f.read()\n",
    "queries = query_str.split(\".I\")"
   ]
  },
  {
   "cell_type": "code",
   "execution_count": 6,
   "id": "72e34f8c",
   "metadata": {},
   "outputs": [
    {
     "data": {
      "text/html": [
       "<div>\n",
       "<style scoped>\n",
       "    .dataframe tbody tr th:only-of-type {\n",
       "        vertical-align: middle;\n",
       "    }\n",
       "\n",
       "    .dataframe tbody tr th {\n",
       "        vertical-align: top;\n",
       "    }\n",
       "\n",
       "    .dataframe thead th {\n",
       "        text-align: right;\n",
       "    }\n",
       "</style>\n",
       "<table border=\"1\" class=\"dataframe\">\n",
       "  <thead>\n",
       "    <tr style=\"text-align: right;\">\n",
       "      <th></th>\n",
       "      <th>I</th>\n",
       "      <th>W</th>\n",
       "    </tr>\n",
       "  </thead>\n",
       "  <tbody>\n",
       "    <tr>\n",
       "      <th>0</th>\n",
       "      <td>1</td>\n",
       "      <td>the crystalline lens in vertebrates, including...</td>\n",
       "    </tr>\n",
       "    <tr>\n",
       "      <th>1</th>\n",
       "      <td>2</td>\n",
       "      <td>the relationship of blood and cerebrospinal fl...</td>\n",
       "    </tr>\n",
       "    <tr>\n",
       "      <th>2</th>\n",
       "      <td>3</td>\n",
       "      <td>electron microscopy of lung or bronchi.</td>\n",
       "    </tr>\n",
       "    <tr>\n",
       "      <th>3</th>\n",
       "      <td>4</td>\n",
       "      <td>tissue culture of lung or bronchial neoplasms.</td>\n",
       "    </tr>\n",
       "    <tr>\n",
       "      <th>4</th>\n",
       "      <td>5</td>\n",
       "      <td>the crossing of fatty acids through the placen...</td>\n",
       "    </tr>\n",
       "  </tbody>\n",
       "</table>\n",
       "</div>"
      ],
      "text/plain": [
       "   I                                                  W\n",
       "0  1  the crystalline lens in vertebrates, including...\n",
       "1  2  the relationship of blood and cerebrospinal fl...\n",
       "2  3            electron microscopy of lung or bronchi.\n",
       "3  4     tissue culture of lung or bronchial neoplasms.\n",
       "4  5  the crossing of fatty acids through the placen..."
      ]
     },
     "execution_count": 6,
     "metadata": {},
     "output_type": "execute_result"
    }
   ],
   "source": [
    "queries_data = []\n",
    "for t in queries:\n",
    "    if t.strip() != \"\":\n",
    "        i = t.split(\".W\\n\")[0]\n",
    "        w = t.split(\".W\\n\")[1]\n",
    "        queries_data.append({\"I\": i.strip(), \"W\": w.strip()})\n",
    "\n",
    "df_queries = pd.DataFrame(queries_data)\n",
    "df_queries.head()"
   ]
  },
  {
   "cell_type": "code",
   "execution_count": 7,
   "id": "41db39d4",
   "metadata": {},
   "outputs": [],
   "source": [
    "f=open('relevance.txt')\n",
    "relevance_str = f.read()\n",
    "relevance = relevance_str.strip().split(\"\\n\")"
   ]
  },
  {
   "cell_type": "code",
   "execution_count": 8,
   "id": "5feeae48",
   "metadata": {},
   "outputs": [],
   "source": [
    "# Split each line into columns\n",
    "rows = [list(map(float, line.strip().split())) for line in relevance]\n",
    "\n",
    "# Create a DataFrame from the rows\n",
    "df_relevance = pd.DataFrame(rows, columns=[\"query\", \"doc\", \"col3\", \"col4\"])\n",
    "df_relevance = df_relevance.drop(['col3', 'col4'], axis=1)\n",
    "\n",
    "df_relevance = df_relevance.astype(int)\n",
    "df_docs['I'] = df_docs['I'].astype(int)\n",
    "df_queries['I'] = df_queries['I'].astype(int)\n",
    "\n",
    "df_rele_doc = pd.merge(df_relevance, df_docs, left_on='doc', right_on='I')\n",
    "\n",
    "df = pd.merge(df_rele_doc, df_queries, left_on='query', right_on='I')\n",
    "\n",
    "df = df.rename(columns={'W_x':'docs', 'W_y':'queries'})\n",
    "\n",
    "final_df = df[['docs', 'queries', 'doc', 'query']]"
   ]
  },
  {
   "cell_type": "code",
   "execution_count": 11,
   "id": "d6a27812",
   "metadata": {},
   "outputs": [],
   "source": [
    "sorted_docs = []\n",
    "relevance_scores =[]"
   ]
  },
  {
   "cell_type": "code",
   "execution_count": 12,
   "id": "8049f041",
   "metadata": {},
   "outputs": [],
   "source": [
    "for i in range(1, len(df_queries)+1):\n",
    "    \n",
    "    query = final_df.loc[final_df['query'] == i, 'queries'].iloc[0]\n",
    "    documents = final_df.loc[final_df['query'] == i, 'docs'].to_list()\n",
    "    # Embed the documents using spaCy's document vectors\n",
    "    doc_vectors = [nlp(doc).vector for doc in documents]\n",
    "    \n",
    "    # Embed the query using spaCy's document vectors\n",
    "    query_vector = nlp(query).vector\n",
    "    \n",
    "    # Calculate the cosine similarity between the query and each document\n",
    "    similarities = [np.dot(query_vector, doc_vector) / (np.linalg.norm(query_vector) * np.linalg.norm(doc_vector)) for doc_vector in doc_vectors]\n",
    "    \n",
    "    # Rank the documents based on their similarity to the query\n",
    "    ranked_docs = sorted(list(zip(documents, similarities)), key=lambda x: x[1], reverse=True)\n",
    "    \n",
    "    for t in ranked_docs:\n",
    "      x, y = t\n",
    "      sorted_docs.append(x)\n",
    "      relevance_scores.append(y)"
   ]
  },
  {
   "cell_type": "code",
   "execution_count": 13,
   "id": "9ac1ec9b",
   "metadata": {},
   "outputs": [],
   "source": [
    "sorted_docs_df = pd.DataFrame(sorted_docs).rename(columns={0:'sorted_docs'})"
   ]
  },
  {
   "cell_type": "code",
   "execution_count": 14,
   "id": "74a74395",
   "metadata": {},
   "outputs": [],
   "source": [
    "relevance_scores_df = pd.DataFrame(relevance_scores).rename(columns={0:'relevance_scores'})"
   ]
  },
  {
   "cell_type": "code",
   "execution_count": 15,
   "id": "7a12d2a0",
   "metadata": {},
   "outputs": [],
   "source": [
    "ranking_df = pd.concat([final_df, sorted_docs_df, relevance_scores_df], axis=1)"
   ]
  },
  {
   "cell_type": "code",
   "execution_count": 16,
   "id": "1bbfa731",
   "metadata": {},
   "outputs": [],
   "source": [
    "ranking_df.to_csv('venwiz_spacy_rank.csv', index=False)"
   ]
  },
  {
   "cell_type": "code",
   "execution_count": null,
   "id": "edfa0ccf",
   "metadata": {},
   "outputs": [],
   "source": []
  }
 ],
 "metadata": {
  "kernelspec": {
   "display_name": "Python 3 (ipykernel)",
   "language": "python",
   "name": "python3"
  },
  "language_info": {
   "codemirror_mode": {
    "name": "ipython",
    "version": 3
   },
   "file_extension": ".py",
   "mimetype": "text/x-python",
   "name": "python",
   "nbconvert_exporter": "python",
   "pygments_lexer": "ipython3",
   "version": "3.9.13"
  }
 },
 "nbformat": 4,
 "nbformat_minor": 5
}
